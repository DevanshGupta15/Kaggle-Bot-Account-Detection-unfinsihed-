{
 "cells": [
  {
   "cell_type": "code",
   "execution_count": 51,
   "id": "f867d911",
   "metadata": {},
   "outputs": [
    {
     "data": {
      "text/html": [
       "<div>\n",
       "<style scoped>\n",
       "    .dataframe tbody tr th:only-of-type {\n",
       "        vertical-align: middle;\n",
       "    }\n",
       "\n",
       "    .dataframe tbody tr th {\n",
       "        vertical-align: top;\n",
       "    }\n",
       "\n",
       "    .dataframe thead th {\n",
       "        text-align: right;\n",
       "    }\n",
       "</style>\n",
       "<table border=\"1\" class=\"dataframe\">\n",
       "  <thead>\n",
       "    <tr style=\"text-align: right;\">\n",
       "      <th></th>\n",
       "      <th>Unnamed: 0</th>\n",
       "      <th>NAME</th>\n",
       "      <th>GENDER</th>\n",
       "      <th>EMAIL_ID</th>\n",
       "      <th>IS_GLOGIN</th>\n",
       "      <th>FOLLOWER_COUNT</th>\n",
       "      <th>FOLLOWING_COUNT</th>\n",
       "      <th>DATASET_COUNT</th>\n",
       "      <th>CODE_COUNT</th>\n",
       "      <th>DISCUSSION_COUNT</th>\n",
       "      <th>AVG_NB_READ_TIME_MIN</th>\n",
       "      <th>REGISTRATION_IPV4</th>\n",
       "      <th>REGISTRATION_LOCATION</th>\n",
       "      <th>TOTAL_VOTES_GAVE_NB</th>\n",
       "      <th>TOTAL_VOTES_GAVE_DS</th>\n",
       "      <th>TOTAL_VOTES_GAVE_DC</th>\n",
       "      <th>ISBOT</th>\n",
       "    </tr>\n",
       "  </thead>\n",
       "  <tbody>\n",
       "    <tr>\n",
       "      <th>0</th>\n",
       "      <td>0</td>\n",
       "      <td>Johnny KerrThomas</td>\n",
       "      <td>Male</td>\n",
       "      <td>jacksonalan@example.com</td>\n",
       "      <td>False</td>\n",
       "      <td>53.0</td>\n",
       "      <td>87.0</td>\n",
       "      <td>5.0</td>\n",
       "      <td>3.0</td>\n",
       "      <td>124.0</td>\n",
       "      <td>NaN</td>\n",
       "      <td>81.88.75.170</td>\n",
       "      <td>Argentina</td>\n",
       "      <td>16.0</td>\n",
       "      <td>10.0</td>\n",
       "      <td>3.0</td>\n",
       "      <td>NaN</td>\n",
       "    </tr>\n",
       "    <tr>\n",
       "      <th>1</th>\n",
       "      <td>1</td>\n",
       "      <td>Dwayne LarsenLara</td>\n",
       "      <td>Male</td>\n",
       "      <td>calvin80@example.com</td>\n",
       "      <td>True</td>\n",
       "      <td>16.0</td>\n",
       "      <td>67.0</td>\n",
       "      <td>5.0</td>\n",
       "      <td>NaN</td>\n",
       "      <td>26.0</td>\n",
       "      <td>24.97</td>\n",
       "      <td>NaN</td>\n",
       "      <td>New Zealand</td>\n",
       "      <td>14.0</td>\n",
       "      <td>5.0</td>\n",
       "      <td>2.0</td>\n",
       "      <td>NaN</td>\n",
       "    </tr>\n",
       "    <tr>\n",
       "      <th>2</th>\n",
       "      <td>2</td>\n",
       "      <td>NaN</td>\n",
       "      <td>Male</td>\n",
       "      <td>qbrown@example.net</td>\n",
       "      <td>True</td>\n",
       "      <td>44.0</td>\n",
       "      <td>81.0</td>\n",
       "      <td>4.0</td>\n",
       "      <td>17.0</td>\n",
       "      <td>125.0</td>\n",
       "      <td>7.75</td>\n",
       "      <td>159.202.103.178</td>\n",
       "      <td>Costa Rica</td>\n",
       "      <td>16.0</td>\n",
       "      <td>4.0</td>\n",
       "      <td>0.0</td>\n",
       "      <td>False</td>\n",
       "    </tr>\n",
       "    <tr>\n",
       "      <th>3</th>\n",
       "      <td>3</td>\n",
       "      <td>Russell SimmonsPhillips</td>\n",
       "      <td>Male</td>\n",
       "      <td>kimberlywagner@example.com</td>\n",
       "      <td>True</td>\n",
       "      <td>23.0</td>\n",
       "      <td>114.0</td>\n",
       "      <td>5.0</td>\n",
       "      <td>24.0</td>\n",
       "      <td>67.0</td>\n",
       "      <td>13.40</td>\n",
       "      <td>196.11.132.51</td>\n",
       "      <td>Italy</td>\n",
       "      <td>21.0</td>\n",
       "      <td>10.0</td>\n",
       "      <td>1.0</td>\n",
       "      <td>False</td>\n",
       "    </tr>\n",
       "  </tbody>\n",
       "</table>\n",
       "</div>"
      ],
      "text/plain": [
       "   Unnamed: 0                     NAME GENDER                    EMAIL_ID  \\\n",
       "0           0        Johnny KerrThomas   Male     jacksonalan@example.com   \n",
       "1           1        Dwayne LarsenLara   Male        calvin80@example.com   \n",
       "2           2                      NaN   Male          qbrown@example.net   \n",
       "3           3  Russell SimmonsPhillips   Male  kimberlywagner@example.com   \n",
       "\n",
       "  IS_GLOGIN  FOLLOWER_COUNT  FOLLOWING_COUNT  DATASET_COUNT  CODE_COUNT  \\\n",
       "0     False            53.0             87.0            5.0         3.0   \n",
       "1      True            16.0             67.0            5.0         NaN   \n",
       "2      True            44.0             81.0            4.0        17.0   \n",
       "3      True            23.0            114.0            5.0        24.0   \n",
       "\n",
       "   DISCUSSION_COUNT  AVG_NB_READ_TIME_MIN REGISTRATION_IPV4  \\\n",
       "0             124.0                   NaN      81.88.75.170   \n",
       "1              26.0                 24.97               NaN   \n",
       "2             125.0                  7.75   159.202.103.178   \n",
       "3              67.0                 13.40     196.11.132.51   \n",
       "\n",
       "  REGISTRATION_LOCATION  TOTAL_VOTES_GAVE_NB  TOTAL_VOTES_GAVE_DS  \\\n",
       "0             Argentina                 16.0                 10.0   \n",
       "1           New Zealand                 14.0                  5.0   \n",
       "2            Costa Rica                 16.0                  4.0   \n",
       "3                 Italy                 21.0                 10.0   \n",
       "\n",
       "   TOTAL_VOTES_GAVE_DC  ISBOT  \n",
       "0                  3.0    NaN  \n",
       "1                  2.0    NaN  \n",
       "2                  0.0  False  \n",
       "3                  1.0  False  "
      ]
     },
     "execution_count": 51,
     "metadata": {},
     "output_type": "execute_result"
    }
   ],
   "source": [
    "import pandas as pd\n",
    "import seaborn as sns\n",
    "import matplotlib.pyplot as plt\n",
    "df = pd.read_csv(\"kaggle_bot_accounts.csv\")\n",
    "df.head(4)"
   ]
  },
  {
   "cell_type": "code",
   "execution_count": 52,
   "id": "93070887",
   "metadata": {},
   "outputs": [
    {
     "data": {
      "text/plain": [
       "(1321188, 17)"
      ]
     },
     "execution_count": 52,
     "metadata": {},
     "output_type": "execute_result"
    }
   ],
   "source": [
    "df.shape"
   ]
  },
  {
   "cell_type": "code",
   "execution_count": 53,
   "id": "8986b9d9",
   "metadata": {},
   "outputs": [
    {
     "data": {
      "text/plain": [
       "Unnamed: 0                   0\n",
       "NAME                     78164\n",
       "GENDER                   77879\n",
       "EMAIL_ID                 77814\n",
       "IS_GLOGIN                77916\n",
       "FOLLOWER_COUNT           77712\n",
       "FOLLOWING_COUNT          78445\n",
       "DATASET_COUNT            78567\n",
       "CODE_COUNT               77926\n",
       "DISCUSSION_COUNT         77722\n",
       "AVG_NB_READ_TIME_MIN     78316\n",
       "REGISTRATION_IPV4        78329\n",
       "REGISTRATION_LOCATION    78290\n",
       "TOTAL_VOTES_GAVE_NB      77705\n",
       "TOTAL_VOTES_GAVE_DS      77934\n",
       "TOTAL_VOTES_GAVE_DC      78030\n",
       "ISBOT                    78500\n",
       "dtype: int64"
      ]
     },
     "execution_count": 53,
     "metadata": {},
     "output_type": "execute_result"
    }
   ],
   "source": [
    "df.isnull().sum()"
   ]
  },
  {
   "cell_type": "code",
   "execution_count": 54,
   "id": "dd77292b",
   "metadata": {},
   "outputs": [
    {
     "name": "stdout",
     "output_type": "stream",
     "text": [
      "Empty DataFrame\n",
      "Columns: [Unnamed: 0, NAME, GENDER, EMAIL_ID, IS_GLOGIN, FOLLOWER_COUNT, FOLLOWING_COUNT, DATASET_COUNT, CODE_COUNT, DISCUSSION_COUNT, AVG_NB_READ_TIME_MIN, REGISTRATION_IPV4, REGISTRATION_LOCATION, TOTAL_VOTES_GAVE_NB, TOTAL_VOTES_GAVE_DS, TOTAL_VOTES_GAVE_DC, ISBOT]\n",
      "Index: []\n"
     ]
    }
   ],
   "source": [
    "# filter the DataFrame to show only the duplicate rows\n",
    "duplicates = df.duplicated()\n",
    "duplicates_df = df[duplicates]\n",
    "# print the duplicate rows\n",
    "print(duplicates_df)"
   ]
  },
  {
   "cell_type": "code",
   "execution_count": 55,
   "id": "6d374547",
   "metadata": {},
   "outputs": [],
   "source": [
    "df=df.dropna()"
   ]
  },
  {
   "cell_type": "code",
   "execution_count": 56,
   "id": "2a8c704d",
   "metadata": {},
   "outputs": [
    {
     "data": {
      "text/plain": [
       "(498987, 17)"
      ]
     },
     "execution_count": 56,
     "metadata": {},
     "output_type": "execute_result"
    }
   ],
   "source": [
    "df.shape"
   ]
  },
  {
   "cell_type": "code",
   "execution_count": 57,
   "id": "80d82636",
   "metadata": {},
   "outputs": [
    {
     "name": "stdout",
     "output_type": "stream",
     "text": [
      "<class 'pandas.core.frame.DataFrame'>\n",
      "Int64Index: 498987 entries, 3 to 1321185\n",
      "Data columns (total 17 columns):\n",
      " #   Column                 Non-Null Count   Dtype  \n",
      "---  ------                 --------------   -----  \n",
      " 0   Unnamed: 0             498987 non-null  int64  \n",
      " 1   NAME                   498987 non-null  object \n",
      " 2   GENDER                 498987 non-null  object \n",
      " 3   EMAIL_ID               498987 non-null  object \n",
      " 4   IS_GLOGIN              498987 non-null  object \n",
      " 5   FOLLOWER_COUNT         498987 non-null  float64\n",
      " 6   FOLLOWING_COUNT        498987 non-null  float64\n",
      " 7   DATASET_COUNT          498987 non-null  float64\n",
      " 8   CODE_COUNT             498987 non-null  float64\n",
      " 9   DISCUSSION_COUNT       498987 non-null  float64\n",
      " 10  AVG_NB_READ_TIME_MIN   498987 non-null  float64\n",
      " 11  REGISTRATION_IPV4      498987 non-null  object \n",
      " 12  REGISTRATION_LOCATION  498987 non-null  object \n",
      " 13  TOTAL_VOTES_GAVE_NB    498987 non-null  float64\n",
      " 14  TOTAL_VOTES_GAVE_DS    498987 non-null  float64\n",
      " 15  TOTAL_VOTES_GAVE_DC    498987 non-null  float64\n",
      " 16  ISBOT                  498987 non-null  object \n",
      "dtypes: float64(9), int64(1), object(7)\n",
      "memory usage: 68.5+ MB\n"
     ]
    }
   ],
   "source": [
    "df.info()"
   ]
  },
  {
   "cell_type": "code",
   "execution_count": 58,
   "id": "f6020e8d",
   "metadata": {},
   "outputs": [
    {
     "data": {
      "text/html": [
       "<div>\n",
       "<style scoped>\n",
       "    .dataframe tbody tr th:only-of-type {\n",
       "        vertical-align: middle;\n",
       "    }\n",
       "\n",
       "    .dataframe tbody tr th {\n",
       "        vertical-align: top;\n",
       "    }\n",
       "\n",
       "    .dataframe thead th {\n",
       "        text-align: right;\n",
       "    }\n",
       "</style>\n",
       "<table border=\"1\" class=\"dataframe\">\n",
       "  <thead>\n",
       "    <tr style=\"text-align: right;\">\n",
       "      <th></th>\n",
       "      <th>Unnamed: 0</th>\n",
       "      <th>NAME</th>\n",
       "      <th>GENDER</th>\n",
       "      <th>EMAIL_ID</th>\n",
       "      <th>IS_GLOGIN</th>\n",
       "      <th>FOLLOWER_COUNT</th>\n",
       "      <th>FOLLOWING_COUNT</th>\n",
       "      <th>DATASET_COUNT</th>\n",
       "      <th>CODE_COUNT</th>\n",
       "      <th>DISCUSSION_COUNT</th>\n",
       "      <th>AVG_NB_READ_TIME_MIN</th>\n",
       "      <th>REGISTRATION_IPV4</th>\n",
       "      <th>REGISTRATION_LOCATION</th>\n",
       "      <th>TOTAL_VOTES_GAVE_NB</th>\n",
       "      <th>TOTAL_VOTES_GAVE_DS</th>\n",
       "      <th>TOTAL_VOTES_GAVE_DC</th>\n",
       "      <th>ISBOT</th>\n",
       "    </tr>\n",
       "  </thead>\n",
       "  <tbody>\n",
       "    <tr>\n",
       "      <th>941028</th>\n",
       "      <td>941028</td>\n",
       "      <td>Mary EvansWilliams</td>\n",
       "      <td>Female</td>\n",
       "      <td>wpatterson@example.com</td>\n",
       "      <td>False</td>\n",
       "      <td>0.0</td>\n",
       "      <td>1.0</td>\n",
       "      <td>0.0</td>\n",
       "      <td>0.0</td>\n",
       "      <td>0.0</td>\n",
       "      <td>0.10</td>\n",
       "      <td>217.123.115.26</td>\n",
       "      <td>United States Minor Outlying Islands</td>\n",
       "      <td>18.0</td>\n",
       "      <td>5.0</td>\n",
       "      <td>0.0</td>\n",
       "      <td>True</td>\n",
       "    </tr>\n",
       "    <tr>\n",
       "      <th>1204330</th>\n",
       "      <td>1204330</td>\n",
       "      <td>Ashley KimRodriguez</td>\n",
       "      <td>Female</td>\n",
       "      <td>zjoseph@example.com</td>\n",
       "      <td>False</td>\n",
       "      <td>2.0</td>\n",
       "      <td>0.0</td>\n",
       "      <td>0.0</td>\n",
       "      <td>1.0</td>\n",
       "      <td>10.0</td>\n",
       "      <td>0.80</td>\n",
       "      <td>181.117.48.80</td>\n",
       "      <td>Iceland</td>\n",
       "      <td>18.0</td>\n",
       "      <td>6.0</td>\n",
       "      <td>0.0</td>\n",
       "      <td>True</td>\n",
       "    </tr>\n",
       "    <tr>\n",
       "      <th>611863</th>\n",
       "      <td>611863</td>\n",
       "      <td>Austin BaldwinMiller</td>\n",
       "      <td>Male</td>\n",
       "      <td>lwilson@example.com</td>\n",
       "      <td>False</td>\n",
       "      <td>1.0</td>\n",
       "      <td>0.0</td>\n",
       "      <td>0.0</td>\n",
       "      <td>0.0</td>\n",
       "      <td>9.0</td>\n",
       "      <td>0.93</td>\n",
       "      <td>203.255.75.236</td>\n",
       "      <td>South Africa</td>\n",
       "      <td>23.0</td>\n",
       "      <td>4.0</td>\n",
       "      <td>2.0</td>\n",
       "      <td>True</td>\n",
       "    </tr>\n",
       "  </tbody>\n",
       "</table>\n",
       "</div>"
      ],
      "text/plain": [
       "         Unnamed: 0                  NAME  GENDER                EMAIL_ID  \\\n",
       "941028       941028    Mary EvansWilliams  Female  wpatterson@example.com   \n",
       "1204330     1204330   Ashley KimRodriguez  Female     zjoseph@example.com   \n",
       "611863       611863  Austin BaldwinMiller    Male     lwilson@example.com   \n",
       "\n",
       "        IS_GLOGIN  FOLLOWER_COUNT  FOLLOWING_COUNT  DATASET_COUNT  CODE_COUNT  \\\n",
       "941028      False             0.0              1.0            0.0         0.0   \n",
       "1204330     False             2.0              0.0            0.0         1.0   \n",
       "611863      False             1.0              0.0            0.0         0.0   \n",
       "\n",
       "         DISCUSSION_COUNT  AVG_NB_READ_TIME_MIN REGISTRATION_IPV4  \\\n",
       "941028                0.0                  0.10    217.123.115.26   \n",
       "1204330              10.0                  0.80     181.117.48.80   \n",
       "611863                9.0                  0.93    203.255.75.236   \n",
       "\n",
       "                        REGISTRATION_LOCATION  TOTAL_VOTES_GAVE_NB  \\\n",
       "941028   United States Minor Outlying Islands                 18.0   \n",
       "1204330                               Iceland                 18.0   \n",
       "611863                           South Africa                 23.0   \n",
       "\n",
       "         TOTAL_VOTES_GAVE_DS  TOTAL_VOTES_GAVE_DC ISBOT  \n",
       "941028                   5.0                  0.0  True  \n",
       "1204330                  6.0                  0.0  True  \n",
       "611863                   4.0                  2.0  True  "
      ]
     },
     "execution_count": 58,
     "metadata": {},
     "output_type": "execute_result"
    }
   ],
   "source": [
    "df.sample(3)"
   ]
  },
  {
   "cell_type": "code",
   "execution_count": 59,
   "id": "967f0029",
   "metadata": {},
   "outputs": [],
   "source": [
    "df=df.drop(columns=\"Unnamed: 0\")"
   ]
  },
  {
   "cell_type": "code",
   "execution_count": 60,
   "id": "e6f4bc49",
   "metadata": {},
   "outputs": [
    {
     "data": {
      "text/plain": [
       "False    365653\n",
       "True     133334\n",
       "Name: ISBOT, dtype: int64"
      ]
     },
     "execution_count": 60,
     "metadata": {},
     "output_type": "execute_result"
    }
   ],
   "source": [
    "df[\"ISBOT\"].value_counts()"
   ]
  },
  {
   "cell_type": "code",
   "execution_count": 61,
   "id": "4d797a03",
   "metadata": {},
   "outputs": [
    {
     "name": "stderr",
     "output_type": "stream",
     "text": [
      "/Users/devansh/opt/anaconda3/lib/python3.9/site-packages/seaborn/_decorators.py:36: FutureWarning: Pass the following variable as a keyword arg: x. From version 0.12, the only valid positional argument will be `data`, and passing other arguments without an explicit keyword will result in an error or misinterpretation.\n",
      "  warnings.warn(\n"
     ]
    },
    {
     "data": {
      "text/plain": [
       "<AxesSubplot:xlabel='GENDER', ylabel='count'>"
      ]
     },
     "execution_count": 61,
     "metadata": {},
     "output_type": "execute_result"
    },
    {
     "data": {
      "image/png": "[encoded data removed]",
      "text/plain": [
       "<Figure size 432x288 with 1 Axes>"
      ]
     },
     "metadata": {
      "needs_background": "light"
     },
     "output_type": "display_data"
    }
   ],
   "source": [
    "sns.countplot(df[\"GENDER\"])"
   ]
  },
  {
   "cell_type": "code",
   "execution_count": 62,
   "id": "cdbd35d7",
   "metadata": {},
   "outputs": [],
   "source": [
    "df=df.drop(columns=[\"NAME\",\"EMAIL_ID\"])"
   ]
  },
  {
   "cell_type": "code",
   "execution_count": 63,
   "id": "fefe7d64",
   "metadata": {},
   "outputs": [
    {
     "data": {
      "text/html": [
       "<div>\n",
       "<style scoped>\n",
       "    .dataframe tbody tr th:only-of-type {\n",
       "        vertical-align: middle;\n",
       "    }\n",
       "\n",
       "    .dataframe tbody tr th {\n",
       "        vertical-align: top;\n",
       "    }\n",
       "\n",
       "    .dataframe thead th {\n",
       "        text-align: right;\n",
       "    }\n",
       "</style>\n",
       "<table border=\"1\" class=\"dataframe\">\n",
       "  <thead>\n",
       "    <tr style=\"text-align: right;\">\n",
       "      <th></th>\n",
       "      <th>GENDER</th>\n",
       "      <th>IS_GLOGIN</th>\n",
       "      <th>FOLLOWER_COUNT</th>\n",
       "      <th>FOLLOWING_COUNT</th>\n",
       "      <th>DATASET_COUNT</th>\n",
       "      <th>CODE_COUNT</th>\n",
       "      <th>DISCUSSION_COUNT</th>\n",
       "      <th>AVG_NB_READ_TIME_MIN</th>\n",
       "      <th>REGISTRATION_IPV4</th>\n",
       "      <th>REGISTRATION_LOCATION</th>\n",
       "      <th>TOTAL_VOTES_GAVE_NB</th>\n",
       "      <th>TOTAL_VOTES_GAVE_DS</th>\n",
       "      <th>TOTAL_VOTES_GAVE_DC</th>\n",
       "      <th>ISBOT</th>\n",
       "    </tr>\n",
       "  </thead>\n",
       "  <tbody>\n",
       "    <tr>\n",
       "      <th>3</th>\n",
       "      <td>Male</td>\n",
       "      <td>True</td>\n",
       "      <td>23.0</td>\n",
       "      <td>114.0</td>\n",
       "      <td>5.0</td>\n",
       "      <td>24.0</td>\n",
       "      <td>67.0</td>\n",
       "      <td>13.40</td>\n",
       "      <td>196.11.132.51</td>\n",
       "      <td>Italy</td>\n",
       "      <td>21.0</td>\n",
       "      <td>10.0</td>\n",
       "      <td>1.0</td>\n",
       "      <td>False</td>\n",
       "    </tr>\n",
       "    <tr>\n",
       "      <th>4</th>\n",
       "      <td>Female</td>\n",
       "      <td>False</td>\n",
       "      <td>46.0</td>\n",
       "      <td>112.0</td>\n",
       "      <td>2.0</td>\n",
       "      <td>12.0</td>\n",
       "      <td>63.0</td>\n",
       "      <td>24.83</td>\n",
       "      <td>159.196.199.20</td>\n",
       "      <td>Belgium</td>\n",
       "      <td>10.0</td>\n",
       "      <td>6.0</td>\n",
       "      <td>2.0</td>\n",
       "      <td>False</td>\n",
       "    </tr>\n",
       "    <tr>\n",
       "      <th>5</th>\n",
       "      <td>Male</td>\n",
       "      <td>False</td>\n",
       "      <td>2.0</td>\n",
       "      <td>2.0</td>\n",
       "      <td>0.0</td>\n",
       "      <td>0.0</td>\n",
       "      <td>0.0</td>\n",
       "      <td>0.62</td>\n",
       "      <td>72.175.201.72</td>\n",
       "      <td>French Polynesia</td>\n",
       "      <td>18.0</td>\n",
       "      <td>9.0</td>\n",
       "      <td>2.0</td>\n",
       "      <td>True</td>\n",
       "    </tr>\n",
       "    <tr>\n",
       "      <th>9</th>\n",
       "      <td>Male</td>\n",
       "      <td>True</td>\n",
       "      <td>65.0</td>\n",
       "      <td>99.0</td>\n",
       "      <td>7.0</td>\n",
       "      <td>19.0</td>\n",
       "      <td>93.0</td>\n",
       "      <td>8.79</td>\n",
       "      <td>68.230.133.41</td>\n",
       "      <td>Saint Lucia</td>\n",
       "      <td>24.0</td>\n",
       "      <td>7.0</td>\n",
       "      <td>2.0</td>\n",
       "      <td>False</td>\n",
       "    </tr>\n",
       "    <tr>\n",
       "      <th>12</th>\n",
       "      <td>Male</td>\n",
       "      <td>False</td>\n",
       "      <td>70.0</td>\n",
       "      <td>14.0</td>\n",
       "      <td>5.0</td>\n",
       "      <td>19.0</td>\n",
       "      <td>75.0</td>\n",
       "      <td>12.17</td>\n",
       "      <td>187.55.60.189</td>\n",
       "      <td>Djibouti</td>\n",
       "      <td>13.0</td>\n",
       "      <td>3.0</td>\n",
       "      <td>2.0</td>\n",
       "      <td>False</td>\n",
       "    </tr>\n",
       "  </tbody>\n",
       "</table>\n",
       "</div>"
      ],
      "text/plain": [
       "    GENDER IS_GLOGIN  FOLLOWER_COUNT  FOLLOWING_COUNT  DATASET_COUNT  \\\n",
       "3     Male      True            23.0            114.0            5.0   \n",
       "4   Female     False            46.0            112.0            2.0   \n",
       "5     Male     False             2.0              2.0            0.0   \n",
       "9     Male      True            65.0             99.0            7.0   \n",
       "12    Male     False            70.0             14.0            5.0   \n",
       "\n",
       "    CODE_COUNT  DISCUSSION_COUNT  AVG_NB_READ_TIME_MIN REGISTRATION_IPV4  \\\n",
       "3         24.0              67.0                 13.40     196.11.132.51   \n",
       "4         12.0              63.0                 24.83    159.196.199.20   \n",
       "5          0.0               0.0                  0.62     72.175.201.72   \n",
       "9         19.0              93.0                  8.79     68.230.133.41   \n",
       "12        19.0              75.0                 12.17     187.55.60.189   \n",
       "\n",
       "   REGISTRATION_LOCATION  TOTAL_VOTES_GAVE_NB  TOTAL_VOTES_GAVE_DS  \\\n",
       "3                  Italy                 21.0                 10.0   \n",
       "4                Belgium                 10.0                  6.0   \n",
       "5       French Polynesia                 18.0                  9.0   \n",
       "9            Saint Lucia                 24.0                  7.0   \n",
       "12              Djibouti                 13.0                  3.0   \n",
       "\n",
       "    TOTAL_VOTES_GAVE_DC  ISBOT  \n",
       "3                   1.0  False  \n",
       "4                   2.0  False  \n",
       "5                   2.0   True  \n",
       "9                   2.0  False  \n",
       "12                  2.0  False  "
      ]
     },
     "execution_count": 63,
     "metadata": {},
     "output_type": "execute_result"
    }
   ],
   "source": [
    "df.head()"
   ]
  },
  {
   "cell_type": "code",
   "execution_count": 64,
   "id": "e58ca8ce",
   "metadata": {},
   "outputs": [
    {
     "name": "stderr",
     "output_type": "stream",
     "text": [
      "/Users/devansh/opt/anaconda3/lib/python3.9/site-packages/seaborn/_decorators.py:36: FutureWarning: Pass the following variable as a keyword arg: x. From version 0.12, the only valid positional argument will be `data`, and passing other arguments without an explicit keyword will result in an error or misinterpretation.\n",
      "  warnings.warn(\n"
     ]
    },
    {
     "data": {
      "text/plain": [
       "<AxesSubplot:xlabel='REGISTRATION_LOCATION', ylabel='count'>"
      ]
     },
     "execution_count": 64,
     "metadata": {},
     "output_type": "execute_result"
    },
    {
     "data": {
      "image/png": "[encoded data removed]",
      "text/plain": [
       "<Figure size 432x288 with 1 Axes>"
      ]
     },
     "metadata": {
      "needs_background": "light"
     },
     "output_type": "display_data"
    }
   ],
   "source": [
    "sns.countplot(df[\"REGISTRATION_LOCATION\"])"
   ]
  },
  {
   "cell_type": "code",
   "execution_count": 65,
   "id": "7447c21f",
   "metadata": {},
   "outputs": [],
   "source": [
    "from sklearn.preprocessing import LabelEncoder\n",
    "encoder = LabelEncoder()\n",
    "df[\"GENDER\"] = encoder.fit_transform(df[\"GENDER\"])\n",
    "df[\"IS_GLOGIN\"] = encoder.fit_transform(df[\"IS_GLOGIN\"])\n",
    "df[\"REGISTRATION_LOCATION\"] = encoder.fit_transform(df[\"REGISTRATION_LOCATION\"])\n",
    "df[\"ISBOT\"] = encoder.fit_transform(df[\"ISBOT\"])\n"
   ]
  },
  {
   "cell_type": "code",
   "execution_count": 66,
   "id": "30128f79",
   "metadata": {},
   "outputs": [
    {
     "data": {
      "text/plain": [
       "pandas.core.series.Series"
      ]
     },
     "execution_count": 66,
     "metadata": {},
     "output_type": "execute_result"
    }
   ],
   "source": [
    "type(df[\"REGISTRATION_IPV4\"])"
   ]
  },
  {
   "cell_type": "code",
   "execution_count": 67,
   "id": "5af17853",
   "metadata": {},
   "outputs": [
    {
     "name": "stderr",
     "output_type": "stream",
     "text": [
      "/var/folders/ww/zxr7kqjs4258k4kk4nl_ws6h0000gn/T/ipykernel_67821/2240002540.py:1: FutureWarning: The default value of regex will change from True to False in a future version. In addition, single character regular expressions will *not* be treated as literal strings when regex=True.\n",
      "  df['ip_address_float'] = df['REGISTRATION_IPV4'].str.replace('.', '').astype(float)\n"
     ]
    }
   ],
   "source": [
    "df['ip_address_float'] = df['REGISTRATION_IPV4'].str.replace('.', '').astype(float)"
   ]
  },
  {
   "cell_type": "code",
   "execution_count": 68,
   "id": "a83e50e3",
   "metadata": {},
   "outputs": [],
   "source": [
    "df=df.drop(columns=[\"REGISTRATION_IPV4\",\"ip_address_float\"])"
   ]
  },
  {
   "cell_type": "code",
   "execution_count": 69,
   "id": "8ff1dbd9",
   "metadata": {},
   "outputs": [
    {
     "name": "stdout",
     "output_type": "stream",
     "text": [
      "<class 'pandas.core.frame.DataFrame'>\n",
      "Int64Index: 498987 entries, 3 to 1321185\n",
      "Data columns (total 13 columns):\n",
      " #   Column                 Non-Null Count   Dtype  \n",
      "---  ------                 --------------   -----  \n",
      " 0   GENDER                 498987 non-null  int64  \n",
      " 1   IS_GLOGIN              498987 non-null  int64  \n",
      " 2   FOLLOWER_COUNT         498987 non-null  float64\n",
      " 3   FOLLOWING_COUNT        498987 non-null  float64\n",
      " 4   DATASET_COUNT          498987 non-null  float64\n",
      " 5   CODE_COUNT             498987 non-null  float64\n",
      " 6   DISCUSSION_COUNT       498987 non-null  float64\n",
      " 7   AVG_NB_READ_TIME_MIN   498987 non-null  float64\n",
      " 8   REGISTRATION_LOCATION  498987 non-null  int64  \n",
      " 9   TOTAL_VOTES_GAVE_NB    498987 non-null  float64\n",
      " 10  TOTAL_VOTES_GAVE_DS    498987 non-null  float64\n",
      " 11  TOTAL_VOTES_GAVE_DC    498987 non-null  float64\n",
      " 12  ISBOT                  498987 non-null  int64  \n",
      "dtypes: float64(9), int64(4)\n",
      "memory usage: 53.3 MB\n"
     ]
    }
   ],
   "source": [
    "df.info()"
   ]
  },
  {
   "cell_type": "code",
   "execution_count": 70,
   "id": "2c510c83",
   "metadata": {},
   "outputs": [
    {
     "data": {
      "text/html": [
       "<div>\n",
       "<style scoped>\n",
       "    .dataframe tbody tr th:only-of-type {\n",
       "        vertical-align: middle;\n",
       "    }\n",
       "\n",
       "    .dataframe tbody tr th {\n",
       "        vertical-align: top;\n",
       "    }\n",
       "\n",
       "    .dataframe thead th {\n",
       "        text-align: right;\n",
       "    }\n",
       "</style>\n",
       "<table border=\"1\" class=\"dataframe\">\n",
       "  <thead>\n",
       "    <tr style=\"text-align: right;\">\n",
       "      <th></th>\n",
       "      <th>GENDER</th>\n",
       "      <th>IS_GLOGIN</th>\n",
       "      <th>FOLLOWER_COUNT</th>\n",
       "      <th>FOLLOWING_COUNT</th>\n",
       "      <th>DATASET_COUNT</th>\n",
       "      <th>CODE_COUNT</th>\n",
       "      <th>DISCUSSION_COUNT</th>\n",
       "      <th>AVG_NB_READ_TIME_MIN</th>\n",
       "      <th>REGISTRATION_LOCATION</th>\n",
       "      <th>TOTAL_VOTES_GAVE_NB</th>\n",
       "      <th>TOTAL_VOTES_GAVE_DS</th>\n",
       "      <th>TOTAL_VOTES_GAVE_DC</th>\n",
       "      <th>ISBOT</th>\n",
       "    </tr>\n",
       "  </thead>\n",
       "  <tbody>\n",
       "    <tr>\n",
       "      <th>GENDER</th>\n",
       "      <td>1.000000</td>\n",
       "      <td>-0.000403</td>\n",
       "      <td>-0.000849</td>\n",
       "      <td>0.001694</td>\n",
       "      <td>0.000542</td>\n",
       "      <td>0.000030</td>\n",
       "      <td>-0.000731</td>\n",
       "      <td>-0.000090</td>\n",
       "      <td>0.001067</td>\n",
       "      <td>0.002550</td>\n",
       "      <td>-0.001220</td>\n",
       "      <td>0.001133</td>\n",
       "      <td>0.000248</td>\n",
       "    </tr>\n",
       "    <tr>\n",
       "      <th>IS_GLOGIN</th>\n",
       "      <td>-0.000403</td>\n",
       "      <td>1.000000</td>\n",
       "      <td>0.313332</td>\n",
       "      <td>0.306409</td>\n",
       "      <td>0.285108</td>\n",
       "      <td>0.330850</td>\n",
       "      <td>0.345503</td>\n",
       "      <td>0.340804</td>\n",
       "      <td>-0.000625</td>\n",
       "      <td>-0.000939</td>\n",
       "      <td>-0.000937</td>\n",
       "      <td>-0.000142</td>\n",
       "      <td>-0.458870</td>\n",
       "    </tr>\n",
       "    <tr>\n",
       "      <th>FOLLOWER_COUNT</th>\n",
       "      <td>-0.000849</td>\n",
       "      <td>0.313332</td>\n",
       "      <td>1.000000</td>\n",
       "      <td>0.455565</td>\n",
       "      <td>0.421777</td>\n",
       "      <td>0.494289</td>\n",
       "      <td>0.515998</td>\n",
       "      <td>0.504679</td>\n",
       "      <td>-0.000695</td>\n",
       "      <td>-0.002411</td>\n",
       "      <td>-0.003163</td>\n",
       "      <td>0.001189</td>\n",
       "      <td>-0.682225</td>\n",
       "    </tr>\n",
       "    <tr>\n",
       "      <th>FOLLOWING_COUNT</th>\n",
       "      <td>0.001694</td>\n",
       "      <td>0.306409</td>\n",
       "      <td>0.455565</td>\n",
       "      <td>1.000000</td>\n",
       "      <td>0.414268</td>\n",
       "      <td>0.483275</td>\n",
       "      <td>0.503376</td>\n",
       "      <td>0.493150</td>\n",
       "      <td>0.001104</td>\n",
       "      <td>-0.000608</td>\n",
       "      <td>-0.000948</td>\n",
       "      <td>0.001301</td>\n",
       "      <td>-0.666821</td>\n",
       "    </tr>\n",
       "    <tr>\n",
       "      <th>DATASET_COUNT</th>\n",
       "      <td>0.000542</td>\n",
       "      <td>0.285108</td>\n",
       "      <td>0.421777</td>\n",
       "      <td>0.414268</td>\n",
       "      <td>1.000000</td>\n",
       "      <td>0.448095</td>\n",
       "      <td>0.466738</td>\n",
       "      <td>0.457377</td>\n",
       "      <td>0.000376</td>\n",
       "      <td>-0.001737</td>\n",
       "      <td>-0.001317</td>\n",
       "      <td>0.001383</td>\n",
       "      <td>-0.619597</td>\n",
       "    </tr>\n",
       "    <tr>\n",
       "      <th>CODE_COUNT</th>\n",
       "      <td>0.000030</td>\n",
       "      <td>0.330850</td>\n",
       "      <td>0.494289</td>\n",
       "      <td>0.483275</td>\n",
       "      <td>0.448095</td>\n",
       "      <td>1.000000</td>\n",
       "      <td>0.546549</td>\n",
       "      <td>0.535809</td>\n",
       "      <td>0.000438</td>\n",
       "      <td>-0.002366</td>\n",
       "      <td>-0.002470</td>\n",
       "      <td>0.000436</td>\n",
       "      <td>-0.723951</td>\n",
       "    </tr>\n",
       "    <tr>\n",
       "      <th>DISCUSSION_COUNT</th>\n",
       "      <td>-0.000731</td>\n",
       "      <td>0.345503</td>\n",
       "      <td>0.515998</td>\n",
       "      <td>0.503376</td>\n",
       "      <td>0.466738</td>\n",
       "      <td>0.546549</td>\n",
       "      <td>1.000000</td>\n",
       "      <td>0.559221</td>\n",
       "      <td>0.001185</td>\n",
       "      <td>-0.002329</td>\n",
       "      <td>-0.002381</td>\n",
       "      <td>-0.000083</td>\n",
       "      <td>-0.754318</td>\n",
       "    </tr>\n",
       "    <tr>\n",
       "      <th>AVG_NB_READ_TIME_MIN</th>\n",
       "      <td>-0.000090</td>\n",
       "      <td>0.340804</td>\n",
       "      <td>0.504679</td>\n",
       "      <td>0.493150</td>\n",
       "      <td>0.457377</td>\n",
       "      <td>0.535809</td>\n",
       "      <td>0.559221</td>\n",
       "      <td>1.000000</td>\n",
       "      <td>-0.001064</td>\n",
       "      <td>-0.002426</td>\n",
       "      <td>-0.003131</td>\n",
       "      <td>-0.000750</td>\n",
       "      <td>-0.740246</td>\n",
       "    </tr>\n",
       "    <tr>\n",
       "      <th>REGISTRATION_LOCATION</th>\n",
       "      <td>0.001067</td>\n",
       "      <td>-0.000625</td>\n",
       "      <td>-0.000695</td>\n",
       "      <td>0.001104</td>\n",
       "      <td>0.000376</td>\n",
       "      <td>0.000438</td>\n",
       "      <td>0.001185</td>\n",
       "      <td>-0.001064</td>\n",
       "      <td>1.000000</td>\n",
       "      <td>-0.001444</td>\n",
       "      <td>-0.002088</td>\n",
       "      <td>-0.001184</td>\n",
       "      <td>-0.000817</td>\n",
       "    </tr>\n",
       "    <tr>\n",
       "      <th>TOTAL_VOTES_GAVE_NB</th>\n",
       "      <td>0.002550</td>\n",
       "      <td>-0.000939</td>\n",
       "      <td>-0.002411</td>\n",
       "      <td>-0.000608</td>\n",
       "      <td>-0.001737</td>\n",
       "      <td>-0.002366</td>\n",
       "      <td>-0.002329</td>\n",
       "      <td>-0.002426</td>\n",
       "      <td>-0.001444</td>\n",
       "      <td>1.000000</td>\n",
       "      <td>-0.000517</td>\n",
       "      <td>-0.000486</td>\n",
       "      <td>0.002407</td>\n",
       "    </tr>\n",
       "    <tr>\n",
       "      <th>TOTAL_VOTES_GAVE_DS</th>\n",
       "      <td>-0.001220</td>\n",
       "      <td>-0.000937</td>\n",
       "      <td>-0.003163</td>\n",
       "      <td>-0.000948</td>\n",
       "      <td>-0.001317</td>\n",
       "      <td>-0.002470</td>\n",
       "      <td>-0.002381</td>\n",
       "      <td>-0.003131</td>\n",
       "      <td>-0.002088</td>\n",
       "      <td>-0.000517</td>\n",
       "      <td>1.000000</td>\n",
       "      <td>-0.001838</td>\n",
       "      <td>0.003180</td>\n",
       "    </tr>\n",
       "    <tr>\n",
       "      <th>TOTAL_VOTES_GAVE_DC</th>\n",
       "      <td>0.001133</td>\n",
       "      <td>-0.000142</td>\n",
       "      <td>0.001189</td>\n",
       "      <td>0.001301</td>\n",
       "      <td>0.001383</td>\n",
       "      <td>0.000436</td>\n",
       "      <td>-0.000083</td>\n",
       "      <td>-0.000750</td>\n",
       "      <td>-0.001184</td>\n",
       "      <td>-0.000486</td>\n",
       "      <td>-0.001838</td>\n",
       "      <td>1.000000</td>\n",
       "      <td>-0.000466</td>\n",
       "    </tr>\n",
       "    <tr>\n",
       "      <th>ISBOT</th>\n",
       "      <td>0.000248</td>\n",
       "      <td>-0.458870</td>\n",
       "      <td>-0.682225</td>\n",
       "      <td>-0.666821</td>\n",
       "      <td>-0.619597</td>\n",
       "      <td>-0.723951</td>\n",
       "      <td>-0.754318</td>\n",
       "      <td>-0.740246</td>\n",
       "      <td>-0.000817</td>\n",
       "      <td>0.002407</td>\n",
       "      <td>0.003180</td>\n",
       "      <td>-0.000466</td>\n",
       "      <td>1.000000</td>\n",
       "    </tr>\n",
       "  </tbody>\n",
       "</table>\n",
       "</div>"
      ],
      "text/plain": [
       "                         GENDER  IS_GLOGIN  FOLLOWER_COUNT  FOLLOWING_COUNT  \\\n",
       "GENDER                 1.000000  -0.000403       -0.000849         0.001694   \n",
       "IS_GLOGIN             -0.000403   1.000000        0.313332         0.306409   \n",
       "FOLLOWER_COUNT        -0.000849   0.313332        1.000000         0.455565   \n",
       "FOLLOWING_COUNT        0.001694   0.306409        0.455565         1.000000   \n",
       "DATASET_COUNT          0.000542   0.285108        0.421777         0.414268   \n",
       "CODE_COUNT             0.000030   0.330850        0.494289         0.483275   \n",
       "DISCUSSION_COUNT      -0.000731   0.345503        0.515998         0.503376   \n",
       "AVG_NB_READ_TIME_MIN  -0.000090   0.340804        0.504679         0.493150   \n",
       "REGISTRATION_LOCATION  0.001067  -0.000625       -0.000695         0.001104   \n",
       "TOTAL_VOTES_GAVE_NB    0.002550  -0.000939       -0.002411        -0.000608   \n",
       "TOTAL_VOTES_GAVE_DS   -0.001220  -0.000937       -0.003163        -0.000948   \n",
       "TOTAL_VOTES_GAVE_DC    0.001133  -0.000142        0.001189         0.001301   \n",
       "ISBOT                  0.000248  -0.458870       -0.682225        -0.666821   \n",
       "\n",
       "                       DATASET_COUNT  CODE_COUNT  DISCUSSION_COUNT  \\\n",
       "GENDER                      0.000542    0.000030         -0.000731   \n",
       "IS_GLOGIN                   0.285108    0.330850          0.345503   \n",
       "FOLLOWER_COUNT              0.421777    0.494289          0.515998   \n",
       "FOLLOWING_COUNT             0.414268    0.483275          0.503376   \n",
       "DATASET_COUNT               1.000000    0.448095          0.466738   \n",
       "CODE_COUNT                  0.448095    1.000000          0.546549   \n",
       "DISCUSSION_COUNT            0.466738    0.546549          1.000000   \n",
       "AVG_NB_READ_TIME_MIN        0.457377    0.535809          0.559221   \n",
       "REGISTRATION_LOCATION       0.000376    0.000438          0.001185   \n",
       "TOTAL_VOTES_GAVE_NB        -0.001737   -0.002366         -0.002329   \n",
       "TOTAL_VOTES_GAVE_DS        -0.001317   -0.002470         -0.002381   \n",
       "TOTAL_VOTES_GAVE_DC         0.001383    0.000436         -0.000083   \n",
       "ISBOT                      -0.619597   -0.723951         -0.754318   \n",
       "\n",
       "                       AVG_NB_READ_TIME_MIN  REGISTRATION_LOCATION  \\\n",
       "GENDER                            -0.000090               0.001067   \n",
       "IS_GLOGIN                          0.340804              -0.000625   \n",
       "FOLLOWER_COUNT                     0.504679              -0.000695   \n",
       "FOLLOWING_COUNT                    0.493150               0.001104   \n",
       "DATASET_COUNT                      0.457377               0.000376   \n",
       "CODE_COUNT                         0.535809               0.000438   \n",
       "DISCUSSION_COUNT                   0.559221               0.001185   \n",
       "AVG_NB_READ_TIME_MIN               1.000000              -0.001064   \n",
       "REGISTRATION_LOCATION             -0.001064               1.000000   \n",
       "TOTAL_VOTES_GAVE_NB               -0.002426              -0.001444   \n",
       "TOTAL_VOTES_GAVE_DS               -0.003131              -0.002088   \n",
       "TOTAL_VOTES_GAVE_DC               -0.000750              -0.001184   \n",
       "ISBOT                             -0.740246              -0.000817   \n",
       "\n",
       "                       TOTAL_VOTES_GAVE_NB  TOTAL_VOTES_GAVE_DS  \\\n",
       "GENDER                            0.002550            -0.001220   \n",
       "IS_GLOGIN                        -0.000939            -0.000937   \n",
       "FOLLOWER_COUNT                   -0.002411            -0.003163   \n",
       "FOLLOWING_COUNT                  -0.000608            -0.000948   \n",
       "DATASET_COUNT                    -0.001737            -0.001317   \n",
       "CODE_COUNT                       -0.002366            -0.002470   \n",
       "DISCUSSION_COUNT                 -0.002329            -0.002381   \n",
       "AVG_NB_READ_TIME_MIN             -0.002426            -0.003131   \n",
       "REGISTRATION_LOCATION            -0.001444            -0.002088   \n",
       "TOTAL_VOTES_GAVE_NB               1.000000            -0.000517   \n",
       "TOTAL_VOTES_GAVE_DS              -0.000517             1.000000   \n",
       "TOTAL_VOTES_GAVE_DC              -0.000486            -0.001838   \n",
       "ISBOT                             0.002407             0.003180   \n",
       "\n",
       "                       TOTAL_VOTES_GAVE_DC     ISBOT  \n",
       "GENDER                            0.001133  0.000248  \n",
       "IS_GLOGIN                        -0.000142 -0.458870  \n",
       "FOLLOWER_COUNT                    0.001189 -0.682225  \n",
       "FOLLOWING_COUNT                   0.001301 -0.666821  \n",
       "DATASET_COUNT                     0.001383 -0.619597  \n",
       "CODE_COUNT                        0.000436 -0.723951  \n",
       "DISCUSSION_COUNT                 -0.000083 -0.754318  \n",
       "AVG_NB_READ_TIME_MIN             -0.000750 -0.740246  \n",
       "REGISTRATION_LOCATION            -0.001184 -0.000817  \n",
       "TOTAL_VOTES_GAVE_NB              -0.000486  0.002407  \n",
       "TOTAL_VOTES_GAVE_DS              -0.001838  0.003180  \n",
       "TOTAL_VOTES_GAVE_DC               1.000000 -0.000466  \n",
       "ISBOT                            -0.000466  1.000000  "
      ]
     },
     "execution_count": 70,
     "metadata": {},
     "output_type": "execute_result"
    }
   ],
   "source": [
    "df.corr()\n"
   ]
  },
  {
   "cell_type": "code",
   "execution_count": 71,
   "id": "1f8161b9",
   "metadata": {},
   "outputs": [
    {
     "data": {
      "image/png": "[encoded data removed]",
      "text/plain": [
       "<Figure size 1008x720 with 2 Axes>"
      ]
     },
     "metadata": {
      "needs_background": "light"
     },
     "output_type": "display_data"
    }
   ],
   "source": [
    "\n",
    "plt.figure(figsize = (14, 10))\n",
    "sns.heatmap(df.corr(), annot = True, fmt = \".1f\", linewidths = .7)\n",
    "plt.show()"
   ]
  },
  {
   "cell_type": "code",
   "execution_count": 72,
   "id": "e7f97583",
   "metadata": {},
   "outputs": [
    {
     "data": {
      "text/html": [
       "<div>\n",
       "<style scoped>\n",
       "    .dataframe tbody tr th:only-of-type {\n",
       "        vertical-align: middle;\n",
       "    }\n",
       "\n",
       "    .dataframe tbody tr th {\n",
       "        vertical-align: top;\n",
       "    }\n",
       "\n",
       "    .dataframe thead th {\n",
       "        text-align: right;\n",
       "    }\n",
       "</style>\n",
       "<table border=\"1\" class=\"dataframe\">\n",
       "  <thead>\n",
       "    <tr style=\"text-align: right;\">\n",
       "      <th></th>\n",
       "      <th>0</th>\n",
       "    </tr>\n",
       "  </thead>\n",
       "  <tbody>\n",
       "    <tr>\n",
       "      <th>AVG_NB_READ_TIME_MIN</th>\n",
       "      <td>2.301280e-01</td>\n",
       "    </tr>\n",
       "    <tr>\n",
       "      <th>DISCUSSION_COUNT</th>\n",
       "      <td>2.226224e-01</td>\n",
       "    </tr>\n",
       "    <tr>\n",
       "      <th>CODE_COUNT</th>\n",
       "      <td>2.020099e-01</td>\n",
       "    </tr>\n",
       "    <tr>\n",
       "      <th>FOLLOWER_COUNT</th>\n",
       "      <td>1.803242e-01</td>\n",
       "    </tr>\n",
       "    <tr>\n",
       "      <th>FOLLOWING_COUNT</th>\n",
       "      <td>1.248612e-01</td>\n",
       "    </tr>\n",
       "    <tr>\n",
       "      <th>DATASET_COUNT</th>\n",
       "      <td>2.838354e-02</td>\n",
       "    </tr>\n",
       "    <tr>\n",
       "      <th>IS_GLOGIN</th>\n",
       "      <td>1.166935e-02</td>\n",
       "    </tr>\n",
       "    <tr>\n",
       "      <th>TOTAL_VOTES_GAVE_DS</th>\n",
       "      <td>5.839477e-07</td>\n",
       "    </tr>\n",
       "    <tr>\n",
       "      <th>REGISTRATION_LOCATION</th>\n",
       "      <td>4.356234e-07</td>\n",
       "    </tr>\n",
       "    <tr>\n",
       "      <th>TOTAL_VOTES_GAVE_NB</th>\n",
       "      <td>4.047295e-07</td>\n",
       "    </tr>\n",
       "    <tr>\n",
       "      <th>GENDER</th>\n",
       "      <td>8.484469e-11</td>\n",
       "    </tr>\n",
       "    <tr>\n",
       "      <th>TOTAL_VOTES_GAVE_DC</th>\n",
       "      <td>0.000000e+00</td>\n",
       "    </tr>\n",
       "  </tbody>\n",
       "</table>\n",
       "</div>"
      ],
      "text/plain": [
       "                                  0\n",
       "AVG_NB_READ_TIME_MIN   2.301280e-01\n",
       "DISCUSSION_COUNT       2.226224e-01\n",
       "CODE_COUNT             2.020099e-01\n",
       "FOLLOWER_COUNT         1.803242e-01\n",
       "FOLLOWING_COUNT        1.248612e-01\n",
       "DATASET_COUNT          2.838354e-02\n",
       "IS_GLOGIN              1.166935e-02\n",
       "TOTAL_VOTES_GAVE_DS    5.839477e-07\n",
       "REGISTRATION_LOCATION  4.356234e-07\n",
       "TOTAL_VOTES_GAVE_NB    4.047295e-07\n",
       "GENDER                 8.484469e-11\n",
       "TOTAL_VOTES_GAVE_DC    0.000000e+00"
      ]
     },
     "execution_count": 72,
     "metadata": {},
     "output_type": "execute_result"
    }
   ],
   "source": [
    "\n",
    "from sklearn.ensemble import RandomForestClassifier\n",
    "clf = RandomForestClassifier()\n",
    "x=df.drop(columns=\"ISBOT\")\n",
    "y=df.ISBOT\n",
    "clf.fit(x,y)\n",
    "feature_imp = pd.DataFrame(clf.feature_importances_,index=x.columns)\n",
    "feature_imp.sort_values(by = 0 , ascending = False)"
   ]
  },
  {
   "cell_type": "code",
   "execution_count": 73,
   "id": "8921bc1e",
   "metadata": {},
   "outputs": [
    {
     "data": {
      "text/html": [
       "<div>\n",
       "<style scoped>\n",
       "    .dataframe tbody tr th:only-of-type {\n",
       "        vertical-align: middle;\n",
       "    }\n",
       "\n",
       "    .dataframe tbody tr th {\n",
       "        vertical-align: top;\n",
       "    }\n",
       "\n",
       "    .dataframe thead th {\n",
       "        text-align: right;\n",
       "    }\n",
       "</style>\n",
       "<table border=\"1\" class=\"dataframe\">\n",
       "  <thead>\n",
       "    <tr style=\"text-align: right;\">\n",
       "      <th></th>\n",
       "      <th>GENDER</th>\n",
       "      <th>IS_GLOGIN</th>\n",
       "      <th>FOLLOWER_COUNT</th>\n",
       "      <th>FOLLOWING_COUNT</th>\n",
       "      <th>DATASET_COUNT</th>\n",
       "      <th>CODE_COUNT</th>\n",
       "      <th>DISCUSSION_COUNT</th>\n",
       "      <th>AVG_NB_READ_TIME_MIN</th>\n",
       "      <th>REGISTRATION_LOCATION</th>\n",
       "      <th>TOTAL_VOTES_GAVE_NB</th>\n",
       "      <th>TOTAL_VOTES_GAVE_DS</th>\n",
       "      <th>TOTAL_VOTES_GAVE_DC</th>\n",
       "    </tr>\n",
       "  </thead>\n",
       "  <tbody>\n",
       "    <tr>\n",
       "      <th>3</th>\n",
       "      <td>1</td>\n",
       "      <td>1</td>\n",
       "      <td>23.0</td>\n",
       "      <td>114.0</td>\n",
       "      <td>5.0</td>\n",
       "      <td>24.0</td>\n",
       "      <td>67.0</td>\n",
       "      <td>13.40</td>\n",
       "      <td>106</td>\n",
       "      <td>21.0</td>\n",
       "      <td>10.0</td>\n",
       "      <td>1.0</td>\n",
       "    </tr>\n",
       "    <tr>\n",
       "      <th>4</th>\n",
       "      <td>0</td>\n",
       "      <td>0</td>\n",
       "      <td>46.0</td>\n",
       "      <td>112.0</td>\n",
       "      <td>2.0</td>\n",
       "      <td>12.0</td>\n",
       "      <td>63.0</td>\n",
       "      <td>24.83</td>\n",
       "      <td>20</td>\n",
       "      <td>10.0</td>\n",
       "      <td>6.0</td>\n",
       "      <td>2.0</td>\n",
       "    </tr>\n",
       "    <tr>\n",
       "      <th>5</th>\n",
       "      <td>1</td>\n",
       "      <td>0</td>\n",
       "      <td>2.0</td>\n",
       "      <td>2.0</td>\n",
       "      <td>0.0</td>\n",
       "      <td>0.0</td>\n",
       "      <td>0.0</td>\n",
       "      <td>0.62</td>\n",
       "      <td>74</td>\n",
       "      <td>18.0</td>\n",
       "      <td>9.0</td>\n",
       "      <td>2.0</td>\n",
       "    </tr>\n",
       "    <tr>\n",
       "      <th>9</th>\n",
       "      <td>1</td>\n",
       "      <td>1</td>\n",
       "      <td>65.0</td>\n",
       "      <td>99.0</td>\n",
       "      <td>7.0</td>\n",
       "      <td>19.0</td>\n",
       "      <td>93.0</td>\n",
       "      <td>8.79</td>\n",
       "      <td>184</td>\n",
       "      <td>24.0</td>\n",
       "      <td>7.0</td>\n",
       "      <td>2.0</td>\n",
       "    </tr>\n",
       "    <tr>\n",
       "      <th>12</th>\n",
       "      <td>1</td>\n",
       "      <td>0</td>\n",
       "      <td>70.0</td>\n",
       "      <td>14.0</td>\n",
       "      <td>5.0</td>\n",
       "      <td>19.0</td>\n",
       "      <td>75.0</td>\n",
       "      <td>12.17</td>\n",
       "      <td>58</td>\n",
       "      <td>13.0</td>\n",
       "      <td>3.0</td>\n",
       "      <td>2.0</td>\n",
       "    </tr>\n",
       "  </tbody>\n",
       "</table>\n",
       "</div>"
      ],
      "text/plain": [
       "    GENDER  IS_GLOGIN  FOLLOWER_COUNT  FOLLOWING_COUNT  DATASET_COUNT  \\\n",
       "3        1          1            23.0            114.0            5.0   \n",
       "4        0          0            46.0            112.0            2.0   \n",
       "5        1          0             2.0              2.0            0.0   \n",
       "9        1          1            65.0             99.0            7.0   \n",
       "12       1          0            70.0             14.0            5.0   \n",
       "\n",
       "    CODE_COUNT  DISCUSSION_COUNT  AVG_NB_READ_TIME_MIN  REGISTRATION_LOCATION  \\\n",
       "3         24.0              67.0                 13.40                    106   \n",
       "4         12.0              63.0                 24.83                     20   \n",
       "5          0.0               0.0                  0.62                     74   \n",
       "9         19.0              93.0                  8.79                    184   \n",
       "12        19.0              75.0                 12.17                     58   \n",
       "\n",
       "    TOTAL_VOTES_GAVE_NB  TOTAL_VOTES_GAVE_DS  TOTAL_VOTES_GAVE_DC  \n",
       "3                  21.0                 10.0                  1.0  \n",
       "4                  10.0                  6.0                  2.0  \n",
       "5                  18.0                  9.0                  2.0  \n",
       "9                  24.0                  7.0                  2.0  \n",
       "12                 13.0                  3.0                  2.0  "
      ]
     },
     "execution_count": 73,
     "metadata": {},
     "output_type": "execute_result"
    }
   ],
   "source": [
    "from sklearn.model_selection import train_test_split\n",
    "\n",
    "features = x\n",
    "labels = y\n",
    "features.head()\n"
   ]
  },
  {
   "cell_type": "code",
   "execution_count": 77,
   "id": "895d32d6",
   "metadata": {},
   "outputs": [
    {
     "data": {
      "text/plain": [
       "1.0"
      ]
     },
     "execution_count": 77,
     "metadata": {},
     "output_type": "execute_result"
    }
   ],
   "source": [
    "features_train,features_test,labels_train,labels_test = train_test_split(features,labels,test_size=0.4)\n",
    "from sklearn.tree import DecisionTreeClassifier \n",
    "dtclf = DecisionTreeClassifier()\n",
    "dtclf.fit(features_train,labels_train)\n",
    "dtclf.score(features_test,labels_test)"
   ]
  },
  {
   "cell_type": "code",
   "execution_count": 78,
   "id": "93a6ed6e",
   "metadata": {},
   "outputs": [
    {
     "data": {
      "text/plain": [
       "1.0"
      ]
     },
     "execution_count": 78,
     "metadata": {},
     "output_type": "execute_result"
    }
   ],
   "source": [
    "from sklearn import svm\n",
    "clf = svm.SVC(kernel=\"linear\")\n",
    "clf.fit(features_train,labels_train)\n",
    "clf.score(features_test,labels_test)"
   ]
  },
  {
   "cell_type": "code",
   "execution_count": 79,
   "id": "f655f2d2",
   "metadata": {},
   "outputs": [
    {
     "name": "stderr",
     "output_type": "stream",
     "text": [
      "/Users/devansh/opt/anaconda3/lib/python3.9/site-packages/sklearn/linear_model/_logistic.py:814: ConvergenceWarning: lbfgs failed to converge (status=1):\n",
      "STOP: TOTAL NO. of ITERATIONS REACHED LIMIT.\n",
      "\n",
      "Increase the number of iterations (max_iter) or scale the data as shown in:\n",
      "    https://scikit-learn.org/stable/modules/preprocessing.html\n",
      "Please also refer to the documentation for alternative solver options:\n",
      "    https://scikit-learn.org/stable/modules/linear_model.html#logistic-regression\n",
      "  n_iter_i = _check_optimize_result(\n"
     ]
    },
    {
     "data": {
      "text/plain": [
       "1.0"
      ]
     },
     "execution_count": 79,
     "metadata": {},
     "output_type": "execute_result"
    }
   ],
   "source": [
    "from sklearn.linear_model import LogisticRegression\n",
    "clf1 = LogisticRegression()\n",
    "clf1.fit(features_train,labels_train)\n",
    "clf1.score(features_test,labels_test)"
   ]
  },
  {
   "cell_type": "code",
   "execution_count": 81,
   "id": "de13a42e",
   "metadata": {},
   "outputs": [
    {
     "name": "stdout",
     "output_type": "stream",
     "text": [
      "3          0\n",
      "4          0\n",
      "5          1\n",
      "9          0\n",
      "12         0\n",
      "          ..\n",
      "1321176    1\n",
      "1321177    1\n",
      "1321178    0\n",
      "1321184    0\n",
      "1321185    0\n",
      "Name: ISBOT, Length: 498987, dtype: int64\n"
     ]
    }
   ],
   "source": [
    "print(label_)"
   ]
  },
  {
   "cell_type": "code",
   "execution_count": 82,
   "id": "7715779d",
   "metadata": {},
   "outputs": [
    {
     "name": "stdout",
     "output_type": "stream",
     "text": [
      "228023     0\n",
      "232637     0\n",
      "1183573    1\n",
      "945567     0\n",
      "181677     0\n",
      "          ..\n",
      "891585     0\n",
      "1008317    1\n",
      "1318163    0\n",
      "559600     1\n",
      "923964     1\n",
      "Name: ISBOT, Length: 199595, dtype: int64\n"
     ]
    }
   ],
   "source": [
    "print(labels_test)"
   ]
  },
  {
   "cell_type": "code",
   "execution_count": null,
   "id": "80466932",
   "metadata": {},
   "outputs": [],
   "source": []
  }
 ],
 "metadata": {
  "kernelspec": {
   "display_name": "Python 3 (ipykernel)",
   "language": "python",
   "name": "python3"
  },
  "language_info": {
   "codemirror_mode": {
    "name": "ipython",
    "version": 3
   },
   "file_extension": ".py",
   "mimetype": "text/x-python",
   "name": "python",
   "nbconvert_exporter": "python",
   "pygments_lexer": "ipython3",
   "version": "3.9.12"
  }
 },
 "nbformat": 4,
 "nbformat_minor": 5
}
